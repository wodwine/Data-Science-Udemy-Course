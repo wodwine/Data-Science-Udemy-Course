{
 "cells": [
  {
   "cell_type": "code",
   "execution_count": 3,
   "id": "collect-turkish",
   "metadata": {},
   "outputs": [],
   "source": [
    "import numpy as np\n",
    "import tensorflow as tf\n",
    "import tensorflow_datasets as tfds"
   ]
  },
  {
   "cell_type": "markdown",
   "id": "special-norway",
   "metadata": {},
   "source": [
    "#### Import and preprocess the data"
   ]
  },
  {
   "cell_type": "code",
   "execution_count": 4,
   "id": "needed-chapter",
   "metadata": {},
   "outputs": [],
   "source": [
    "mnist_dataset,mnist_info = tfds.load(name=\"mnist\",with_info=True,as_supervised=True)"
   ]
  },
  {
   "cell_type": "code",
   "execution_count": 5,
   "id": "multiple-fields",
   "metadata": {},
   "outputs": [],
   "source": [
    "mnist_train,mnist_test = mnist_dataset[\"train\"],mnist_dataset[\"test\"]"
   ]
  },
  {
   "cell_type": "code",
   "execution_count": 6,
   "id": "occupied-groove",
   "metadata": {},
   "outputs": [],
   "source": [
    "num_val = 0.1*mnist_info.splits[\"train\"].num_examples\n",
    "num_val = tf.cast(num_val,tf.int64)\n",
    "num_test = mnist_info.splits[\"test\"].num_examples\n",
    "num_test = tf.cast(num_test,tf.int64)"
   ]
  },
  {
   "cell_type": "code",
   "execution_count": 7,
   "id": "compound-guess",
   "metadata": {},
   "outputs": [],
   "source": [
    "def scale(image,label):\n",
    "    image = tf.cast(image,tf.float32)\n",
    "    image /= 255.\n",
    "    return image,label"
   ]
  },
  {
   "cell_type": "code",
   "execution_count": 8,
   "id": "cosmetic-liabilities",
   "metadata": {},
   "outputs": [],
   "source": [
    "scaled_train_and_val_data = mnist_train.map(scale)\n",
    "test_data = mnist_test.map(scale)"
   ]
  },
  {
   "cell_type": "code",
   "execution_count": 9,
   "id": "shaped-cosmetic",
   "metadata": {},
   "outputs": [],
   "source": [
    "BUFFER_SIZE = 10000\n",
    "shuffled_train_and_val_data = scaled_train_and_val_data.shuffle(BUFFER_SIZE)"
   ]
  },
  {
   "cell_type": "code",
   "execution_count": 10,
   "id": "contained-idaho",
   "metadata": {},
   "outputs": [],
   "source": [
    "validation_data = shuffled_train_and_val_data.take(num_val)\n",
    "train_data = shuffled_train_and_val_data.skip(num_val)"
   ]
  },
  {
   "cell_type": "code",
   "execution_count": 11,
   "id": "described-techno",
   "metadata": {},
   "outputs": [],
   "source": [
    "BATCH_SIZE = 100\n",
    "train_data = train_data.batch(BATCH_SIZE)\n",
    "validation_data = validation_data.batch(num_val)\n",
    "test_data = test_data.batch(num_test)\n",
    "\n",
    "validation_inputs,validation_targets = next(iter(validation_data))"
   ]
  },
  {
   "cell_type": "markdown",
   "id": "rapid-pioneer",
   "metadata": {},
   "source": [
    "#### Deep Learning => Convolutions, Dense 10 node"
   ]
  },
  {
   "cell_type": "code",
   "execution_count": 39,
   "id": "liberal-facing",
   "metadata": {},
   "outputs": [],
   "source": [
    "input_size = 784\n",
    "output_size = 10\n",
    "hidden_layer_size = 10\n",
    "\n",
    "model = tf.keras.models.Sequential() # Build a model\n",
    "model.add(tf.keras.layers.Flatten(input_shape=(28,28,1))) # Add input layer\n",
    "model.add(tf.keras.layers.Dense(units=hidden_layer_size,activation=\"relu\")) # Add first hidden layer\n",
    "model.add(tf.keras.layers.Dense(units=output_size,activation=\"softmax\")) # Add output layer\n",
    "model.compile(optimizer=\"adam\",loss=\"sparse_categorical_crossentropy\",metrics=[\"accuracy\"]) # Compile the model"
   ]
  },
  {
   "cell_type": "code",
   "execution_count": 40,
   "id": "elder-recorder",
   "metadata": {},
   "outputs": [
    {
     "name": "stdout",
     "output_type": "stream",
     "text": [
      "Epoch 1/5\n",
      "540/540 - 2s - loss: 0.8548 - accuracy: 0.7540 - val_loss: 0.4303 - val_accuracy: 0.8805\n",
      "Epoch 2/5\n",
      "540/540 - 2s - loss: 0.3594 - accuracy: 0.8998 - val_loss: 0.3250 - val_accuracy: 0.9042\n",
      "Epoch 3/5\n",
      "540/540 - 2s - loss: 0.2996 - accuracy: 0.9151 - val_loss: 0.2845 - val_accuracy: 0.9158\n",
      "Epoch 4/5\n",
      "540/540 - 2s - loss: 0.2740 - accuracy: 0.9219 - val_loss: 0.2710 - val_accuracy: 0.9207\n",
      "Epoch 5/5\n",
      "540/540 - 2s - loss: 0.2609 - accuracy: 0.9261 - val_loss: 0.2595 - val_accuracy: 0.9232\n"
     ]
    },
    {
     "data": {
      "text/plain": [
       "<tensorflow.python.keras.callbacks.History at 0x7f9b5774f160>"
      ]
     },
     "execution_count": 40,
     "metadata": {},
     "output_type": "execute_result"
    }
   ],
   "source": [
    "NUM_EPOCHS = 5\n",
    "\n",
    "model.fit(x=train_data,validation_data=(validation_inputs,validation_targets),epochs=NUM_EPOCHS,verbose=2) # Fit model"
   ]
  },
  {
   "cell_type": "code",
   "execution_count": 41,
   "id": "naughty-behalf",
   "metadata": {},
   "outputs": [
    {
     "name": "stdout",
     "output_type": "stream",
     "text": [
      "1/1 [==============================] - 0s 373ms/step - loss: 0.2546 - accuracy: 0.9304\n"
     ]
    }
   ],
   "source": [
    "test_loss, test_accuracy = model.evaluate(test_data) # Test model"
   ]
  },
  {
   "cell_type": "code",
   "execution_count": 42,
   "id": "independent-campbell",
   "metadata": {},
   "outputs": [
    {
     "name": "stdout",
     "output_type": "stream",
     "text": [
      "Test loss: 0.25 Test accuracy: 93.04%\n"
     ]
    }
   ],
   "source": [
    "# We can apply some nice formatting if we want to\n",
    "print('Test loss: {0:.2f} Test accuracy: {1:.2f}%'.format(test_loss, test_accuracy*100.))"
   ]
  },
  {
   "cell_type": "markdown",
   "id": "nasty-check",
   "metadata": {},
   "source": [
    "#### Deep Learning => Convolutions, Max pooling, Convolutions, Dense 10 node"
   ]
  },
  {
   "cell_type": "code",
   "execution_count": 43,
   "id": "multiple-opening",
   "metadata": {},
   "outputs": [],
   "source": [
    "input_size = 784\n",
    "output_size = 10\n",
    "hidden_layer_size = 10\n",
    "\n",
    "model = tf.keras.models.Sequential() # Build a model\n",
    "model.add(tf.keras.layers.Conv2D(30, (3,3), activation='relu', input_shape=(28, 28, 1)))\n",
    "model.add(tf.keras.layers.MaxPool2D(pool_size=2,strides=2))\n",
    "model.add(tf.keras.layers.Flatten()) # Add first hidden layer\n",
    "model.add(tf.keras.layers.Dense(units=hidden_layer_size,activation=\"relu\")) # Add second hidden layer\n",
    "model.add(tf.keras.layers.Dense(units=output_size,activation=\"softmax\")) # Add output layer\n",
    "model.compile(optimizer=\"adam\",loss=\"sparse_categorical_crossentropy\",metrics=[\"accuracy\"]) # Compile the model"
   ]
  },
  {
   "cell_type": "code",
   "execution_count": 44,
   "id": "established-wireless",
   "metadata": {},
   "outputs": [
    {
     "name": "stdout",
     "output_type": "stream",
     "text": [
      "Epoch 1/5\n",
      "540/540 - 7s - loss: 0.4825 - accuracy: 0.8510 - val_loss: 0.2012 - val_accuracy: 0.9450\n",
      "Epoch 2/5\n",
      "540/540 - 9s - loss: 0.1609 - accuracy: 0.9544 - val_loss: 0.1311 - val_accuracy: 0.9622\n",
      "Epoch 3/5\n",
      "540/540 - 9s - loss: 0.1140 - accuracy: 0.9675 - val_loss: 0.1076 - val_accuracy: 0.9663\n",
      "Epoch 4/5\n",
      "540/540 - 9s - loss: 0.0951 - accuracy: 0.9724 - val_loss: 0.0991 - val_accuracy: 0.9707\n",
      "Epoch 5/5\n",
      "540/540 - 8s - loss: 0.0821 - accuracy: 0.9764 - val_loss: 0.0879 - val_accuracy: 0.9723\n"
     ]
    },
    {
     "data": {
      "text/plain": [
       "<tensorflow.python.keras.callbacks.History at 0x7f9b57746dc0>"
      ]
     },
     "execution_count": 44,
     "metadata": {},
     "output_type": "execute_result"
    }
   ],
   "source": [
    "NUM_EPOCHS = 5\n",
    "\n",
    "model.fit(x=train_data,validation_data=(validation_inputs,validation_targets),epochs=NUM_EPOCHS,verbose=2) # Fit model"
   ]
  },
  {
   "cell_type": "code",
   "execution_count": 45,
   "id": "accessible-peoples",
   "metadata": {},
   "outputs": [
    {
     "name": "stdout",
     "output_type": "stream",
     "text": [
      "1/1 [==============================] - 1s 1s/step - loss: 0.0794 - accuracy: 0.9754\n"
     ]
    }
   ],
   "source": [
    "test_loss, test_accuracy = model.evaluate(test_data) # Test model"
   ]
  },
  {
   "cell_type": "code",
   "execution_count": 46,
   "id": "norman-importance",
   "metadata": {},
   "outputs": [
    {
     "name": "stdout",
     "output_type": "stream",
     "text": [
      "Test loss: 0.08 Test accuracy: 97.54%\n"
     ]
    }
   ],
   "source": [
    "# We can apply some nice formatting if we want to\n",
    "print('Test loss: {0:.2f} Test accuracy: {1:.2f}%'.format(test_loss, test_accuracy*100.))"
   ]
  },
  {
   "cell_type": "markdown",
   "id": "intimate-village",
   "metadata": {},
   "source": [
    "#### Compare between 2 architectures"
   ]
  },
  {
   "cell_type": "markdown",
   "id": "small-failure",
   "metadata": {},
   "source": [
    "The one that have MaxPooling tend to has higher accuracy than the other one with no MaxPooling\n",
    "- model with MaxPooling: `97.54%`\n",
    "- model with no MaxPooling: `93.04%`"
   ]
  },
  {
   "cell_type": "code",
   "execution_count": null,
   "id": "angry-yukon",
   "metadata": {},
   "outputs": [],
   "source": []
  }
 ],
 "metadata": {
  "kernelspec": {
   "display_name": "Python 3",
   "language": "python",
   "name": "python3"
  },
  "language_info": {
   "codemirror_mode": {
    "name": "ipython",
    "version": 3
   },
   "file_extension": ".py",
   "mimetype": "text/x-python",
   "name": "python",
   "nbconvert_exporter": "python",
   "pygments_lexer": "ipython3",
   "version": "3.8.5"
  }
 },
 "nbformat": 4,
 "nbformat_minor": 5
}
