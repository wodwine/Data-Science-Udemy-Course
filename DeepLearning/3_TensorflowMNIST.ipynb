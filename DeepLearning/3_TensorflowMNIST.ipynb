{
 "cells": [
  {
   "cell_type": "code",
   "execution_count": 95,
   "id": "collect-turkish",
   "metadata": {},
   "outputs": [],
   "source": [
    "import numpy as np\n",
    "import tensorflow as tf\n",
    "import tensorflow_datasets as tfds"
   ]
  },
  {
   "cell_type": "code",
   "execution_count": 96,
   "id": "needed-chapter",
   "metadata": {},
   "outputs": [],
   "source": [
    "mnist_dataset,mnist_info = tfds.load(name=\"mnist\",with_info=True,as_supervised=True)"
   ]
  },
  {
   "cell_type": "code",
   "execution_count": 97,
   "id": "multiple-fields",
   "metadata": {},
   "outputs": [],
   "source": [
    "mnist_train,mnist_test = mnist_dataset[\"train\"],mnist_dataset[\"test\"]"
   ]
  },
  {
   "cell_type": "code",
   "execution_count": 98,
   "id": "occupied-groove",
   "metadata": {},
   "outputs": [],
   "source": [
    "num_val = 0.1*mnist_info.splits[\"train\"].num_examples\n",
    "num_val = tf.cast(num_val,tf.int64)\n",
    "num_test = mnist_info.splits[\"test\"].num_examples\n",
    "num_test = tf.cast(num_test,tf.int64)"
   ]
  },
  {
   "cell_type": "code",
   "execution_count": 99,
   "id": "compound-guess",
   "metadata": {},
   "outputs": [],
   "source": [
    "def scale(image,label):\n",
    "    image = tf.cast(image,tf.float32)\n",
    "    image /= 255.\n",
    "    return image,label"
   ]
  },
  {
   "cell_type": "code",
   "execution_count": 100,
   "id": "cosmetic-liabilities",
   "metadata": {},
   "outputs": [],
   "source": [
    "scaled_train_and_val_data = mnist_train.map(scale)\n",
    "test_data = mnist_test.map(scale)"
   ]
  },
  {
   "cell_type": "code",
   "execution_count": 101,
   "id": "shaped-cosmetic",
   "metadata": {},
   "outputs": [],
   "source": [
    "BUFFER_SIZE = 10000\n",
    "shuffled_train_and_val_data = scaled_train_and_val_data.shuffle(BUFFER_SIZE)"
   ]
  },
  {
   "cell_type": "code",
   "execution_count": 102,
   "id": "contained-idaho",
   "metadata": {},
   "outputs": [],
   "source": [
    "validation_data = shuffled_train_and_val_data.take(num_val)\n",
    "train_data = shuffled_train_and_val_data.skip(num_val)"
   ]
  },
  {
   "cell_type": "code",
   "execution_count": 103,
   "id": "described-techno",
   "metadata": {},
   "outputs": [],
   "source": [
    "BATCH_SIZE = 100\n",
    "train_data = train_data.batch(BATCH_SIZE)\n",
    "validation_data = validation_data.batch(num_val)\n",
    "test_data = test_data.batch(num_test)\n",
    "\n",
    "validation_inputs,validation_targets = next(iter(validation_data))"
   ]
  },
  {
   "cell_type": "code",
   "execution_count": 104,
   "id": "multiple-opening",
   "metadata": {},
   "outputs": [],
   "source": [
    "input_size = 784\n",
    "output_size = 10\n",
    "hidden_layer_size = 200\n",
    "\n",
    "model = tf.keras.models.Sequential() # Build a model\n",
    "model.add(tf.keras.layers.Flatten(input_shape=(28,28,1))) # Add input layer\n",
    "model.add(tf.keras.layers.Dense(units=hidden_layer_size,activation=\"relu\")) # Add first hidden layer\n",
    "model.add(tf.keras.layers.Dense(units=hidden_layer_size,activation=\"relu\")) # Add second hidden layer\n",
    "model.add(tf.keras.layers.Dense(units=output_size,activation=\"softmax\")) # Add output layer\n",
    "model.compile(optimizer=\"adam\",loss=\"sparse_categorical_crossentropy\",metrics=[\"accuracy\"]) # Compile the model"
   ]
  },
  {
   "cell_type": "code",
   "execution_count": 105,
   "id": "established-wireless",
   "metadata": {},
   "outputs": [
    {
     "name": "stdout",
     "output_type": "stream",
     "text": [
      "Epoch 1/5\n",
      "540/540 - 4s - loss: 0.2717 - accuracy: 0.9215 - val_loss: 0.1350 - val_accuracy: 0.9597\n",
      "Epoch 2/5\n",
      "540/540 - 2s - loss: 0.1075 - accuracy: 0.9676 - val_loss: 0.0881 - val_accuracy: 0.9732\n",
      "Epoch 3/5\n",
      "540/540 - 2s - loss: 0.0715 - accuracy: 0.9782 - val_loss: 0.0723 - val_accuracy: 0.9765\n",
      "Epoch 4/5\n",
      "540/540 - 2s - loss: 0.0541 - accuracy: 0.9835 - val_loss: 0.0662 - val_accuracy: 0.9785\n",
      "Epoch 5/5\n",
      "540/540 - 2s - loss: 0.0426 - accuracy: 0.9868 - val_loss: 0.0413 - val_accuracy: 0.9867\n"
     ]
    },
    {
     "data": {
      "text/plain": [
       "<tensorflow.python.keras.callbacks.History at 0x7ff333c9b1c0>"
      ]
     },
     "execution_count": 105,
     "metadata": {},
     "output_type": "execute_result"
    }
   ],
   "source": [
    "NUM_EPOCHS = 5\n",
    "\n",
    "model.fit(x=train_data,validation_data=(validation_inputs,validation_targets),epochs=NUM_EPOCHS,verbose=2) # Fit model"
   ]
  },
  {
   "cell_type": "code",
   "execution_count": 106,
   "id": "accessible-peoples",
   "metadata": {},
   "outputs": [
    {
     "name": "stdout",
     "output_type": "stream",
     "text": [
      "1/1 [==============================] - 1s 567ms/step - loss: 0.0737 - accuracy: 0.9780\n"
     ]
    }
   ],
   "source": [
    "test_loss, test_accuracy = model.evaluate(test_data) # Test model"
   ]
  },
  {
   "cell_type": "code",
   "execution_count": 107,
   "id": "norman-importance",
   "metadata": {},
   "outputs": [
    {
     "name": "stdout",
     "output_type": "stream",
     "text": [
      "Test loss: 0.07 Test accuracy: 97.80%\n"
     ]
    }
   ],
   "source": [
    "# We can apply some nice formatting if we want to\n",
    "print('Test loss: {0:.2f} Test accuracy: {1:.2f}%'.format(test_loss, test_accuracy*100.))"
   ]
  },
  {
   "cell_type": "code",
   "execution_count": null,
   "id": "colonial-visitor",
   "metadata": {},
   "outputs": [],
   "source": []
  }
 ],
 "metadata": {
  "kernelspec": {
   "display_name": "Python 3",
   "language": "python",
   "name": "python3"
  },
  "language_info": {
   "codemirror_mode": {
    "name": "ipython",
    "version": 3
   },
   "file_extension": ".py",
   "mimetype": "text/x-python",
   "name": "python",
   "nbconvert_exporter": "python",
   "pygments_lexer": "ipython3",
   "version": "3.8.5"
  }
 },
 "nbformat": 4,
 "nbformat_minor": 5
}
