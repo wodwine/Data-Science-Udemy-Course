{
 "cells": [
  {
   "cell_type": "code",
   "execution_count": 13,
   "id": "trained-worry",
   "metadata": {},
   "outputs": [],
   "source": [
    "import numpy as np\n",
    "import matplotlib.pyplot as plt"
   ]
  },
  {
   "cell_type": "code",
   "execution_count": 14,
   "id": "cross-ballot",
   "metadata": {},
   "outputs": [],
   "source": [
    "observations = 1000\n",
    "x1 = np.random.uniform(low=-10, high=10, size=(observations,1)) # x1\n",
    "x2 = np.random.uniform(-10, 10, (observations,1)) # x2\n",
    "noise = np.random.uniform(-1, 1, (observations,1)) # Noise\n",
    "inputs = np.column_stack((x1,x2))"
   ]
  },
  {
   "cell_type": "code",
   "execution_count": 15,
   "id": "buried-bradford",
   "metadata": {},
   "outputs": [],
   "source": [
    "targets = 2*x1 - 3*x2 + 5 + noise"
   ]
  },
  {
   "cell_type": "code",
   "execution_count": 16,
   "id": "searching-tenant",
   "metadata": {},
   "outputs": [],
   "source": [
    "init_range = 0.1\n",
    "weights = np.random.uniform(low=-init_range, high=init_range, size=(2, 1))\n",
    "biases = np.random.uniform(low=-init_range, high=init_range, size=1)"
   ]
  },
  {
   "cell_type": "code",
   "execution_count": 17,
   "id": "cardiovascular-ukraine",
   "metadata": {},
   "outputs": [],
   "source": [
    "learning_rate = 0.02"
   ]
  },
  {
   "cell_type": "code",
   "execution_count": 18,
   "id": "amazing-recognition",
   "metadata": {},
   "outputs": [
    {
     "name": "stdout",
     "output_type": "stream",
     "text": [
      "208.6621982390698\n",
      "36.85998496506958\n",
      "15.121772437715979\n",
      "12.001915803145465\n",
      "11.217059556945792\n",
      "10.739816317497981\n",
      "10.316164847791283\n",
      "9.913645955163355\n",
      "9.527605620682884\n",
      "9.156910071927566\n",
      "8.800891211934633\n",
      "8.45896058609368\n",
      "8.130559764897042\n",
      "7.81515327048914\n",
      "7.512226921759493\n",
      "7.2212868967767045\n",
      "6.9418589151355725\n",
      "6.673487463191889\n",
      "6.415735051295011\n",
      "6.1681815005815155\n",
      "5.930423258011143\n",
      "5.702072738508487\n",
      "5.482757693135456\n",
      "5.272120602264223\n",
      "5.069818092761366\n",
      "4.875520378233152\n",
      "4.688910721419407\n",
      "4.5096849178596425\n",
      "4.337550799989727\n",
      "4.1722277608606255\n",
      "4.013446296702916\n",
      "3.8609475675912464\n",
      "3.7144829754926687\n",
      "3.5738137590109047\n",
      "3.438710604165977\n",
      "3.3089532705746687\n",
      "3.1843302324224383\n",
      "3.0646383336415215\n",
      "2.9496824567331026\n",
      "2.839275204693666\n",
      "2.733236595527027\n",
      "2.6313937688440614\n",
      "2.5335807040718006\n",
      "2.439637949812581\n",
      "2.3494123639120037\n",
      "2.26275686381202\n",
      "2.1795301867821517\n",
      "2.0995966596379767\n",
      "2.0228259775715074\n",
      "1.9490929917329078\n",
      "1.8782775052172611\n",
      "1.810264077123825\n",
      "1.7449418343683696\n",
      "1.682204290941785\n",
      "1.6219491743203662\n",
      "1.5640782587447635\n",
      "1.5084972050958145\n",
      "1.4551154071062629\n",
      "1.4038458436576173\n",
      "1.354604936921409\n",
      "1.3073124161135672\n",
      "1.2618911866398321\n",
      "1.2182672044188703\n",
      "1.1763693551782393\n",
      "1.1361293385264049\n",
      "1.0974815566118752\n",
      "1.0603630071878891\n",
      "1.0247131809083936\n",
      "0.9904739626878377\n",
      "0.95758953696403\n",
      "0.9260062967095702\n",
      "0.8956727560435781\n",
      "0.8665394663012304\n",
      "0.8385589354242934\n",
      "0.8116855505412531\n",
      "0.7858755036108268\n",
      "0.7610867200076409\n",
      "0.7372787899336658\n",
      "0.7144129025435952\n",
      "0.6924517826767784\n",
      "0.6713596300925684\n",
      "0.6511020611100419\n",
      "0.6316460525569344\n",
      "0.6129598879364372\n",
      "0.5950131057240814\n",
      "0.5777764497104447\n",
      "0.5612218213087073\n",
      "0.5453222337493353\n",
      "0.5300517680871991\n",
      "0.5153855309494302\n",
      "0.5012996139551229\n",
      "0.4877710547407376\n",
      "0.4747777995276696\n",
      "0.46229866717095874\n",
      "0.4503133146305355\n",
      "0.43880220380871837\n",
      "0.42774656969989605\n",
      "0.4171283898004815\n",
      "0.4069303547292624\n",
      "0.397135840010262\n"
     ]
    }
   ],
   "source": [
    "for i in range (100):\n",
    "    outputs = np.dot(inputs,weights) + biases\n",
    "    deltas = outputs - targets\n",
    "    loss = np.sum(deltas ** 2) / 2 / observations\n",
    "    print (loss)\n",
    "    deltas_scaled = deltas / observations\n",
    "    weights = weights - learning_rate * np.dot(inputs.T,deltas_scaled)\n",
    "    biases = biases - learning_rate * np.sum(deltas_scaled)"
   ]
  },
  {
   "cell_type": "code",
   "execution_count": 19,
   "id": "recognized-grave",
   "metadata": {},
   "outputs": [
    {
     "name": "stdout",
     "output_type": "stream",
     "text": [
      "[[ 1.99301131]\n",
      " [-3.00128259]] [4.3123919]\n"
     ]
    }
   ],
   "source": [
    "print (weights, biases)"
   ]
  },
  {
   "cell_type": "code",
   "execution_count": 20,
   "id": "curious-quarter",
   "metadata": {},
   "outputs": [
    {
     "data": {
      "image/png": "[encoded data removed]",
      "text/plain": [
       "<Figure size 432x288 with 1 Axes>"
      ]
     },
     "metadata": {
      "needs_background": "light"
     },
     "output_type": "display_data"
    }
   ],
   "source": [
    "plt.plot(outputs,targets)\n",
    "plt.xlabel('outputs')\n",
    "plt.ylabel('targets')\n",
    "plt.show()"
   ]
  },
  {
   "cell_type": "code",
   "execution_count": null,
   "id": "electrical-coupon",
   "metadata": {},
   "outputs": [],
   "source": []
  }
 ],
 "metadata": {
  "kernelspec": {
   "display_name": "Python 3",
   "language": "python",
   "name": "python3"
  },
  "language_info": {
   "codemirror_mode": {
    "name": "ipython",
    "version": 3
   },
   "file_extension": ".py",
   "mimetype": "text/x-python",
   "name": "python",
   "nbconvert_exporter": "python",
   "pygments_lexer": "ipython3",
   "version": "3.8.5"
  }
 },
 "nbformat": 4,
 "nbformat_minor": 5
}
