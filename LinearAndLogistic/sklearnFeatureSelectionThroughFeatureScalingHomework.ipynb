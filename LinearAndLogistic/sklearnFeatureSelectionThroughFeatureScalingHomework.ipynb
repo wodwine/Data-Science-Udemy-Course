{
 "cells": [
  {
   "cell_type": "code",
   "execution_count": 1,
   "id": "adapted-madrid",
   "metadata": {},
   "outputs": [],
   "source": [
    "import numpy as np\n",
    "import pandas as pd\n",
    "import matplotlib.pyplot as plt\n",
    "import seaborn as sns\n",
    "sns.set()\n",
    "\n",
    "from sklearn.linear_model import LinearRegression"
   ]
  },
  {
   "cell_type": "code",
   "execution_count": 2,
   "id": "prescription-joseph",
   "metadata": {},
   "outputs": [
    {
     "data": {
      "text/html": [
       "<div>\n",
       "<style scoped>\n",
       "    .dataframe tbody tr th:only-of-type {\n",
       "        vertical-align: middle;\n",
       "    }\n",
       "\n",
       "    .dataframe tbody tr th {\n",
       "        vertical-align: top;\n",
       "    }\n",
       "\n",
       "    .dataframe thead th {\n",
       "        text-align: right;\n",
       "    }\n",
       "</style>\n",
       "<table border=\"1\" class=\"dataframe\">\n",
       "  <thead>\n",
       "    <tr style=\"text-align: right;\">\n",
       "      <th></th>\n",
       "      <th>price</th>\n",
       "      <th>size</th>\n",
       "      <th>year</th>\n",
       "    </tr>\n",
       "  </thead>\n",
       "  <tbody>\n",
       "    <tr>\n",
       "      <th>0</th>\n",
       "      <td>234314.144</td>\n",
       "      <td>643.09</td>\n",
       "      <td>2015</td>\n",
       "    </tr>\n",
       "    <tr>\n",
       "      <th>1</th>\n",
       "      <td>228581.528</td>\n",
       "      <td>656.22</td>\n",
       "      <td>2009</td>\n",
       "    </tr>\n",
       "    <tr>\n",
       "      <th>2</th>\n",
       "      <td>281626.336</td>\n",
       "      <td>487.29</td>\n",
       "      <td>2018</td>\n",
       "    </tr>\n",
       "    <tr>\n",
       "      <th>3</th>\n",
       "      <td>401255.608</td>\n",
       "      <td>1504.75</td>\n",
       "      <td>2015</td>\n",
       "    </tr>\n",
       "    <tr>\n",
       "      <th>4</th>\n",
       "      <td>458674.256</td>\n",
       "      <td>1275.46</td>\n",
       "      <td>2009</td>\n",
       "    </tr>\n",
       "    <tr>\n",
       "      <th>...</th>\n",
       "      <td>...</td>\n",
       "      <td>...</td>\n",
       "      <td>...</td>\n",
       "    </tr>\n",
       "    <tr>\n",
       "      <th>95</th>\n",
       "      <td>252460.400</td>\n",
       "      <td>549.80</td>\n",
       "      <td>2009</td>\n",
       "    </tr>\n",
       "    <tr>\n",
       "      <th>96</th>\n",
       "      <td>310522.592</td>\n",
       "      <td>1037.44</td>\n",
       "      <td>2009</td>\n",
       "    </tr>\n",
       "    <tr>\n",
       "      <th>97</th>\n",
       "      <td>383635.568</td>\n",
       "      <td>1504.75</td>\n",
       "      <td>2006</td>\n",
       "    </tr>\n",
       "    <tr>\n",
       "      <th>98</th>\n",
       "      <td>225145.248</td>\n",
       "      <td>648.29</td>\n",
       "      <td>2015</td>\n",
       "    </tr>\n",
       "    <tr>\n",
       "      <th>99</th>\n",
       "      <td>274922.856</td>\n",
       "      <td>705.29</td>\n",
       "      <td>2006</td>\n",
       "    </tr>\n",
       "  </tbody>\n",
       "</table>\n",
       "<p>100 rows × 3 columns</p>\n",
       "</div>"
      ],
      "text/plain": [
       "         price     size  year\n",
       "0   234314.144   643.09  2015\n",
       "1   228581.528   656.22  2009\n",
       "2   281626.336   487.29  2018\n",
       "3   401255.608  1504.75  2015\n",
       "4   458674.256  1275.46  2009\n",
       "..         ...      ...   ...\n",
       "95  252460.400   549.80  2009\n",
       "96  310522.592  1037.44  2009\n",
       "97  383635.568  1504.75  2006\n",
       "98  225145.248   648.29  2015\n",
       "99  274922.856   705.29  2006\n",
       "\n",
       "[100 rows x 3 columns]"
      ]
     },
     "execution_count": 2,
     "metadata": {},
     "output_type": "execute_result"
    }
   ],
   "source": [
    "data = pd.read_csv(\"data/real_estate_price_size_year.csv\")\n",
    "data"
   ]
  },
  {
   "cell_type": "code",
   "execution_count": 3,
   "id": "adolescent-wings",
   "metadata": {},
   "outputs": [],
   "source": [
    "x = data.drop(\"price\",axis=1)\n",
    "y = data[\"price\"]"
   ]
  },
  {
   "cell_type": "code",
   "execution_count": 4,
   "id": "subjective-climb",
   "metadata": {},
   "outputs": [],
   "source": [
    "from sklearn.preprocessing import StandardScaler"
   ]
  },
  {
   "cell_type": "code",
   "execution_count": 6,
   "id": "hybrid-comfort",
   "metadata": {},
   "outputs": [
    {
     "data": {
      "text/plain": [
       "array([[-0.70816415,  0.51006137],\n",
       "       [-0.66387316, -0.76509206],\n",
       "       [-1.23371919,  1.14763808],\n",
       "       [ 2.19844528,  0.51006137],\n",
       "       [ 1.42498884, -0.76509206],\n",
       "       [-0.937209  , -1.40266877],\n",
       "       [-0.95171405,  0.51006137],\n",
       "       [-0.78328682, -1.40266877],\n",
       "       [-0.57603328,  1.14763808],\n",
       "       [-0.53467702, -0.76509206],\n",
       "       [ 0.69939906, -0.76509206],\n",
       "       [ 3.33780001, -0.76509206],\n",
       "       [-0.53467702,  0.51006137],\n",
       "       [ 0.52699137,  1.14763808],\n",
       "       [ 1.51100715, -1.40266877],\n",
       "       [ 1.77668568, -1.40266877],\n",
       "       [-0.54810263,  1.14763808],\n",
       "       [-0.77276222, -1.40266877],\n",
       "       [-0.58004747, -1.40266877],\n",
       "       [ 0.58943055,  1.14763808],\n",
       "       [-0.78365788,  0.51006137],\n",
       "       [-1.02322731,  0.51006137],\n",
       "       [ 1.19557293,  0.51006137],\n",
       "       [-1.12884431,  0.51006137],\n",
       "       [-1.10378093, -0.76509206],\n",
       "       [ 0.84424715,  1.14763808],\n",
       "       [-0.95171405,  1.14763808],\n",
       "       [ 1.62279723,  0.51006137],\n",
       "       [-0.58004747,  0.51006137],\n",
       "       [ 2.17014356,  0.51006137],\n",
       "       [ 0.5306345 , -1.40266877],\n",
       "       [-0.58004747, -1.40266877],\n",
       "       [-0.8606021 , -0.76509206],\n",
       "       [-1.10378093,  0.51006137],\n",
       "       [ 0.015233  ,  1.14763808],\n",
       "       [-0.77603429,  1.14763808],\n",
       "       [-0.10057126, -1.40266877],\n",
       "       [-0.95387294, -1.40266877],\n",
       "       [-0.56517136,  1.14763808],\n",
       "       [-0.5219598 ,  0.51006137],\n",
       "       [ 0.56983186,  0.51006137],\n",
       "       [-0.57603328,  1.14763808],\n",
       "       [-0.10057126, -0.76509206],\n",
       "       [ 1.62279723, -0.76509206],\n",
       "       [ 0.69939906,  1.14763808],\n",
       "       [-0.5219598 ,  0.51006137],\n",
       "       [-0.7415595 , -0.76509206],\n",
       "       [-0.5219598 , -1.40266877],\n",
       "       [-0.7415595 ,  0.51006137],\n",
       "       [-0.79600403,  0.51006137],\n",
       "       [-0.69328805,  0.51006137],\n",
       "       [ 0.56983186,  0.51006137],\n",
       "       [ 0.56983186, -0.76509206],\n",
       "       [-0.42214483, -1.40266877],\n",
       "       [-0.69328805,  0.51006137],\n",
       "       [ 2.21224194,  1.14763808],\n",
       "       [ 0.6039356 ,  1.14763808],\n",
       "       [ 1.45329055,  0.51006137],\n",
       "       [-0.08495304, -1.40266877],\n",
       "       [-0.95751607,  0.51006137],\n",
       "       [-0.08387359,  1.14763808],\n",
       "       [-0.52125142,  0.51006137],\n",
       "       [ 1.18939985,  0.51006137],\n",
       "       [ 0.56983186, -0.76509206],\n",
       "       [-0.56517136,  0.51006137],\n",
       "       [-0.08748299,  0.51006137],\n",
       "       [ 0.52699137, -1.40266877],\n",
       "       [-1.02285625,  0.51006137],\n",
       "       [-0.56517136,  1.14763808],\n",
       "       [ 2.17014356, -1.40266877],\n",
       "       [ 0.56983186, -0.76509206],\n",
       "       [-0.70708471, -1.40266877],\n",
       "       [-0.66387316,  0.51006137],\n",
       "       [-1.02285625,  0.51006137],\n",
       "       [-0.56517136,  1.14763808],\n",
       "       [-0.56517136,  1.14763808],\n",
       "       [ 1.11464825,  1.14763808],\n",
       "       [ 1.62279723, -1.40266877],\n",
       "       [-0.57603328, -0.76509206],\n",
       "       [ 1.13205431, -1.40266877],\n",
       "       [-0.58004747, -1.40266877],\n",
       "       [ 0.90847416,  0.51006137],\n",
       "       [-0.58004747, -1.40266877],\n",
       "       [-0.70816415,  1.14763808],\n",
       "       [-0.56517136,  1.14763808],\n",
       "       [ 0.52699137,  1.14763808],\n",
       "       [-1.25915362, -1.40266877],\n",
       "       [ 0.59162317, -0.76509206],\n",
       "       [-0.84791862,  1.14763808],\n",
       "       [ 1.29501685,  1.14763808],\n",
       "       [-0.53467702,  1.14763808],\n",
       "       [ 0.73714592,  0.51006137],\n",
       "       [-0.53467702,  0.51006137],\n",
       "       [-0.5219598 ,  1.14763808],\n",
       "       [-0.5219598 , -1.40266877],\n",
       "       [-1.02285625, -0.76509206],\n",
       "       [ 0.62208377, -0.76509206],\n",
       "       [ 2.19844528, -1.40266877],\n",
       "       [-0.69062317,  0.51006137],\n",
       "       [-0.49834693, -1.40266877]])"
      ]
     },
     "execution_count": 6,
     "metadata": {},
     "output_type": "execute_result"
    }
   ],
   "source": [
    "scaler = StandardScaler()\n",
    "scaler.fit(x)\n",
    "x_scaled = scaler.transform(x)\n",
    "x_scaled"
   ]
  },
  {
   "cell_type": "code",
   "execution_count": 7,
   "id": "outdoor-indication",
   "metadata": {},
   "outputs": [
    {
     "data": {
      "text/plain": [
       "LinearRegression()"
      ]
     },
     "execution_count": 7,
     "metadata": {},
     "output_type": "execute_result"
    }
   ],
   "source": [
    "model = LinearRegression()\n",
    "model.fit(x_scaled,y)"
   ]
  },
  {
   "cell_type": "code",
   "execution_count": 8,
   "id": "civilian-dynamics",
   "metadata": {},
   "outputs": [
    {
     "data": {
      "text/plain": [
       "0.7764803683276793"
      ]
     },
     "execution_count": 8,
     "metadata": {},
     "output_type": "execute_result"
    }
   ],
   "source": [
    "model.score(x_scaled,y)"
   ]
  },
  {
   "cell_type": "code",
   "execution_count": 9,
   "id": "lesbian-hollow",
   "metadata": {},
   "outputs": [],
   "source": [
    "def adj_r2(x,y):\n",
    "    r2 = model.score(x,y)\n",
    "    n = x.shape[0]\n",
    "    p = x.shape[1]\n",
    "    adjusted_r2 = 1-(1-r2)*(n-1)/(n-p-1)\n",
    "    return adjusted_r2"
   ]
  },
  {
   "cell_type": "code",
   "execution_count": 12,
   "id": "former-majority",
   "metadata": {},
   "outputs": [
    {
     "data": {
      "text/plain": [
       "0.77187171612825"
      ]
     },
     "execution_count": 12,
     "metadata": {},
     "output_type": "execute_result"
    }
   ],
   "source": [
    "adj_r2(x_scaled,y)"
   ]
  },
  {
   "cell_type": "code",
   "execution_count": 13,
   "id": "liquid-observation",
   "metadata": {},
   "outputs": [
    {
     "data": {
      "text/plain": [
       "array([258330.34465995])"
      ]
     },
     "execution_count": 13,
     "metadata": {},
     "output_type": "execute_result"
    }
   ],
   "source": [
    "new_data = [[750,2009]]\n",
    "new_data_scaled = scaler.transform(new_data)\n",
    "model.predict(new_data_scaled)"
   ]
  },
  {
   "cell_type": "code",
   "execution_count": 14,
   "id": "received-confidence",
   "metadata": {},
   "outputs": [],
   "source": [
    "from sklearn.feature_selection import f_regression"
   ]
  },
  {
   "cell_type": "code",
   "execution_count": 15,
   "id": "blessed-furniture",
   "metadata": {},
   "outputs": [
    {
     "data": {
      "text/plain": [
       "(array([285.92105192,   0.85525799]), array([8.12763222e-31, 3.57340758e-01]))"
      ]
     },
     "execution_count": 15,
     "metadata": {},
     "output_type": "execute_result"
    }
   ],
   "source": [
    "f_regression(x_scaled,y)"
   ]
  },
  {
   "cell_type": "code",
   "execution_count": 17,
   "id": "yellow-onion",
   "metadata": {},
   "outputs": [
    {
     "data": {
      "text/plain": [
       "array([0.   , 0.357])"
      ]
     },
     "execution_count": 17,
     "metadata": {},
     "output_type": "execute_result"
    }
   ],
   "source": [
    "p_values = f_regression(x_scaled,y)[1].round(3)\n",
    "p_values"
   ]
  },
  {
   "cell_type": "code",
   "execution_count": 20,
   "id": "legal-imperial",
   "metadata": {},
   "outputs": [
    {
     "data": {
      "text/html": [
       "<div>\n",
       "<style scoped>\n",
       "    .dataframe tbody tr th:only-of-type {\n",
       "        vertical-align: middle;\n",
       "    }\n",
       "\n",
       "    .dataframe tbody tr th {\n",
       "        vertical-align: top;\n",
       "    }\n",
       "\n",
       "    .dataframe thead th {\n",
       "        text-align: right;\n",
       "    }\n",
       "</style>\n",
       "<table border=\"1\" class=\"dataframe\">\n",
       "  <thead>\n",
       "    <tr style=\"text-align: right;\">\n",
       "      <th></th>\n",
       "      <th>Features</th>\n",
       "    </tr>\n",
       "  </thead>\n",
       "  <tbody>\n",
       "    <tr>\n",
       "      <th>0</th>\n",
       "      <td>size</td>\n",
       "    </tr>\n",
       "    <tr>\n",
       "      <th>1</th>\n",
       "      <td>year</td>\n",
       "    </tr>\n",
       "  </tbody>\n",
       "</table>\n",
       "</div>"
      ],
      "text/plain": [
       "  Features\n",
       "0     size\n",
       "1     year"
      ]
     },
     "execution_count": 20,
     "metadata": {},
     "output_type": "execute_result"
    }
   ],
   "source": [
    "model_summary = pd.DataFrame(data=x.columns.values,columns=[\"Features\"])\n",
    "model_summary"
   ]
  },
  {
   "cell_type": "code",
   "execution_count": 23,
   "id": "micro-consolidation",
   "metadata": {},
   "outputs": [
    {
     "data": {
      "text/html": [
       "<div>\n",
       "<style scoped>\n",
       "    .dataframe tbody tr th:only-of-type {\n",
       "        vertical-align: middle;\n",
       "    }\n",
       "\n",
       "    .dataframe tbody tr th {\n",
       "        vertical-align: top;\n",
       "    }\n",
       "\n",
       "    .dataframe thead th {\n",
       "        text-align: right;\n",
       "    }\n",
       "</style>\n",
       "<table border=\"1\" class=\"dataframe\">\n",
       "  <thead>\n",
       "    <tr style=\"text-align: right;\">\n",
       "      <th></th>\n",
       "      <th>Features</th>\n",
       "      <th>Coefficient</th>\n",
       "      <th>P-Value</th>\n",
       "    </tr>\n",
       "  </thead>\n",
       "  <tbody>\n",
       "    <tr>\n",
       "      <th>0</th>\n",
       "      <td>size</td>\n",
       "      <td>67501.576142</td>\n",
       "      <td>0.000</td>\n",
       "    </tr>\n",
       "    <tr>\n",
       "      <th>1</th>\n",
       "      <td>year</td>\n",
       "      <td>13724.397082</td>\n",
       "      <td>0.357</td>\n",
       "    </tr>\n",
       "  </tbody>\n",
       "</table>\n",
       "</div>"
      ],
      "text/plain": [
       "  Features   Coefficient  P-Value\n",
       "0     size  67501.576142    0.000\n",
       "1     year  13724.397082    0.357"
      ]
     },
     "execution_count": 23,
     "metadata": {},
     "output_type": "execute_result"
    }
   ],
   "source": [
    "model_summary[\"Coefficient\"] = model.coef_\n",
    "model_summary[\"P-Value\"] = p_values\n",
    "model_summary"
   ]
  },
  {
   "cell_type": "code",
   "execution_count": null,
   "id": "supreme-courage",
   "metadata": {},
   "outputs": [],
   "source": []
  }
 ],
 "metadata": {
  "kernelspec": {
   "display_name": "Python 3",
   "language": "python",
   "name": "python3"
  },
  "language_info": {
   "codemirror_mode": {
    "name": "ipython",
    "version": 3
   },
   "file_extension": ".py",
   "mimetype": "text/x-python",
   "name": "python",
   "nbconvert_exporter": "python",
   "pygments_lexer": "ipython3",
   "version": "3.8.5"
  }
 },
 "nbformat": 4,
 "nbformat_minor": 5
}
